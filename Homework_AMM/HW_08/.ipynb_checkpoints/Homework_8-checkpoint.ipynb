{
 "cells": [
  {
   "cell_type": "markdown",
   "metadata": {},
   "source": [
    "#Movies problem from Lab 14"
   ]
  },
  {
   "cell_type": "code",
   "execution_count": 1,
   "metadata": {
    "collapsed": false
   },
   "outputs": [
    {
     "data": {
      "text/plain": [
       "'\\n##install python-recsys\\n\\n### first install dependencies\\n\\npip install csc-pysparse networkx divisi2\\n\\n###then install recsys\\ngit clone https://github.com/python-recsys/python-recsys.git\\ncd python-recsys/\\n\\npython setup.py install\\n'"
      ]
     },
     "execution_count": 1,
     "metadata": {},
     "output_type": "execute_result"
    }
   ],
   "source": [
    "#installed recsys on my computer\n",
    "\n",
    "\"\"\"\n",
    "##install python-recsys\n",
    "\n",
    "### first install dependencies\n",
    "\n",
    "pip install csc-pysparse networkx divisi2\n",
    "\n",
    "###then install recsys\n",
    "git clone https://github.com/python-recsys/python-recsys.git\n",
    "cd python-recsys/\n",
    "\n",
    "python setup.py install\n",
    "\"\"\"\n"
   ]
  },
  {
   "cell_type": "code",
   "execution_count": 42,
   "metadata": {
    "collapsed": false
   },
   "outputs": [],
   "source": [
    "import pandas as pd\n",
    "import numpy as np"
   ]
  },
  {
   "cell_type": "code",
   "execution_count": 44,
   "metadata": {
    "collapsed": true
   },
   "outputs": [],
   "source": [
    "import recsys.algorithm\n",
    "recsys.algorithm.VERBOSE = True\n",
    "from recsys.algorithm.factorize import SVD"
   ]
  },
  {
   "cell_type": "code",
   "execution_count": 3,
   "metadata": {
    "collapsed": false
   },
   "outputs": [
    {
     "name": "stdout",
     "output_type": "stream",
     "text": [
      "README      movies.dat  ratings.dat users.dat\r\n"
     ]
    }
   ],
   "source": [
    "! ls movielens"
   ]
  },
  {
   "cell_type": "code",
   "execution_count": 4,
   "metadata": {
    "collapsed": false
   },
   "outputs": [
    {
     "name": "stderr",
     "output_type": "stream",
     "text": [
      "//anaconda/lib/python2.7/site-packages/pandas/io/parsers.py:648: ParserWarning: Falling back to the 'python' engine because the 'c' engine does not support regex separators; you can avoid this warning by specifying engine='python'.\n",
      "  ParserWarning)\n"
     ]
    }
   ],
   "source": [
    "movies = pd.read_table('movielens/movies.dat', sep='::', names= ['ITEMID', 'Title', 'Genres'], index_col= 'ITEMID')"
   ]
  },
  {
   "cell_type": "code",
   "execution_count": 6,
   "metadata": {
    "collapsed": false
   },
   "outputs": [
    {
     "data": {
      "text/html": [
       "<div>\n",
       "<table border=\"1\" class=\"dataframe\">\n",
       "  <thead>\n",
       "    <tr style=\"text-align: right;\">\n",
       "      <th></th>\n",
       "      <th>Title</th>\n",
       "      <th>Genres</th>\n",
       "    </tr>\n",
       "    <tr>\n",
       "      <th>ITEMID</th>\n",
       "      <th></th>\n",
       "      <th></th>\n",
       "    </tr>\n",
       "  </thead>\n",
       "  <tbody>\n",
       "    <tr>\n",
       "      <th>1</th>\n",
       "      <td>Toy Story (1995)</td>\n",
       "      <td>Animation|Children's|Comedy</td>\n",
       "    </tr>\n",
       "    <tr>\n",
       "      <th>2</th>\n",
       "      <td>Jumanji (1995)</td>\n",
       "      <td>Adventure|Children's|Fantasy</td>\n",
       "    </tr>\n",
       "    <tr>\n",
       "      <th>3</th>\n",
       "      <td>Grumpier Old Men (1995)</td>\n",
       "      <td>Comedy|Romance</td>\n",
       "    </tr>\n",
       "    <tr>\n",
       "      <th>4</th>\n",
       "      <td>Waiting to Exhale (1995)</td>\n",
       "      <td>Comedy|Drama</td>\n",
       "    </tr>\n",
       "    <tr>\n",
       "      <th>5</th>\n",
       "      <td>Father of the Bride Part II (1995)</td>\n",
       "      <td>Comedy</td>\n",
       "    </tr>\n",
       "  </tbody>\n",
       "</table>\n",
       "</div>"
      ],
      "text/plain": [
       "                                     Title                        Genres\n",
       "ITEMID                                                                  \n",
       "1                         Toy Story (1995)   Animation|Children's|Comedy\n",
       "2                           Jumanji (1995)  Adventure|Children's|Fantasy\n",
       "3                  Grumpier Old Men (1995)                Comedy|Romance\n",
       "4                 Waiting to Exhale (1995)                  Comedy|Drama\n",
       "5       Father of the Bride Part II (1995)                        Comedy"
      ]
     },
     "execution_count": 6,
     "metadata": {},
     "output_type": "execute_result"
    }
   ],
   "source": [
    "movies.head()"
   ]
  },
  {
   "cell_type": "code",
   "execution_count": 7,
   "metadata": {
    "collapsed": true
   },
   "outputs": [],
   "source": [
    "svd = SVD()"
   ]
  },
  {
   "cell_type": "code",
   "execution_count": 8,
   "metadata": {
    "collapsed": false
   },
   "outputs": [
    {
     "name": "stdout",
     "output_type": "stream",
     "text": [
      "Loading ./movielens/ratings.dat\n",
      "..........|\n"
     ]
    }
   ],
   "source": [
    "#populating the data set following the guide from lab\n",
    "\n",
    "svd.load_data(filename='./movielens/ratings.dat', sep='::', format={'col':0, 'row':1, 'value':2, 'ids': int})"
   ]
  },
  {
   "cell_type": "code",
   "execution_count": 9,
   "metadata": {
    "collapsed": false
   },
   "outputs": [
    {
     "name": "stdout",
     "output_type": "stream",
     "text": [
      "Creating matrix (1000209 tuples)\n",
      "Matrix density is: 4.4684%\n",
      "Updating matrix: squish to at least 10 values\n",
      "Computing svd k=100, min_values=10, pre_normalize=None, mean_center=True, post_normalize=True\n",
      "[WARNING] mean_center is True. svd.similar(...) might return nan's. If so, then do svd.compute(..., mean_center=False)\n"
     ]
    }
   ],
   "source": [
    "k = 100\n",
    "svd.compute(k=k, min_values=10, pre_normalize=None, mean_center=True, post_normalize=True)"
   ]
  },
  {
   "cell_type": "code",
   "execution_count": 10,
   "metadata": {
    "collapsed": false
   },
   "outputs": [
    {
     "data": {
      "text/html": [
       "<div>\n",
       "<table border=\"1\" class=\"dataframe\">\n",
       "  <thead>\n",
       "    <tr style=\"text-align: right;\">\n",
       "      <th></th>\n",
       "      <th>Title</th>\n",
       "      <th>Genres</th>\n",
       "    </tr>\n",
       "    <tr>\n",
       "      <th>ITEMID</th>\n",
       "      <th></th>\n",
       "      <th></th>\n",
       "    </tr>\n",
       "  </thead>\n",
       "  <tbody>\n",
       "    <tr>\n",
       "      <th>1</th>\n",
       "      <td>Toy Story (1995)</td>\n",
       "      <td>Animation|Children's|Comedy</td>\n",
       "    </tr>\n",
       "  </tbody>\n",
       "</table>\n",
       "</div>"
      ],
      "text/plain": [
       "                   Title                       Genres\n",
       "ITEMID                                               \n",
       "1       Toy Story (1995)  Animation|Children's|Comedy"
      ]
     },
     "execution_count": 10,
     "metadata": {},
     "output_type": "execute_result"
    }
   ],
   "source": [
    "movies[movies.Title == \"Toy Story (1995)\"]"
   ]
  },
  {
   "cell_type": "code",
   "execution_count": 11,
   "metadata": {
    "collapsed": false
   },
   "outputs": [
    {
     "data": {
      "text/html": [
       "<div>\n",
       "<table border=\"1\" class=\"dataframe\">\n",
       "  <thead>\n",
       "    <tr style=\"text-align: right;\">\n",
       "      <th></th>\n",
       "      <th>Title</th>\n",
       "      <th>Genres</th>\n",
       "    </tr>\n",
       "    <tr>\n",
       "      <th>ITEMID</th>\n",
       "      <th></th>\n",
       "      <th></th>\n",
       "    </tr>\n",
       "  </thead>\n",
       "  <tbody>\n",
       "    <tr>\n",
       "      <th>2355</th>\n",
       "      <td>Bug's Life, A (1998)</td>\n",
       "      <td>Animation|Children's|Comedy</td>\n",
       "    </tr>\n",
       "  </tbody>\n",
       "</table>\n",
       "</div>"
      ],
      "text/plain": [
       "                       Title                       Genres\n",
       "ITEMID                                                   \n",
       "2355    Bug's Life, A (1998)  Animation|Children's|Comedy"
      ]
     },
     "execution_count": 11,
     "metadata": {},
     "output_type": "execute_result"
    }
   ],
   "source": [
    "movies[movies.Title == \"Bug's Life, A (1998)\"]"
   ]
  },
  {
   "cell_type": "code",
   "execution_count": 12,
   "metadata": {
    "collapsed": false
   },
   "outputs": [
    {
     "name": "stdout",
     "output_type": "stream",
     "text": [
      "0.677069366773\n"
     ]
    }
   ],
   "source": [
    "ITEMID1 = 1    # Toy Story (1995)\n",
    "ITEMID2 = 2355 # A bug's life (1998)\n",
    "print svd.similarity(ITEMID1, ITEMID2)"
   ]
  },
  {
   "cell_type": "code",
   "execution_count": 13,
   "metadata": {
    "collapsed": false
   },
   "outputs": [
    {
     "data": {
      "text/plain": [
       "[(1, 0.99999999999999978),\n",
       " (3114, 0.87060391051017305),\n",
       " (2355, 0.67706936677314977),\n",
       " (588, 0.58073514967544992),\n",
       " (595, 0.46031829709744226),\n",
       " (1907, 0.44589398718134982),\n",
       " (364, 0.42908159895577563),\n",
       " (2081, 0.42566581277822413),\n",
       " (3396, 0.42474056361934953),\n",
       " (2761, 0.40439361857576017)]"
      ]
     },
     "execution_count": 13,
     "metadata": {},
     "output_type": "execute_result"
    }
   ],
   "source": [
    "svd.similar(ITEMID1)"
   ]
  },
  {
   "cell_type": "code",
   "execution_count": 14,
   "metadata": {
    "collapsed": false
   },
   "outputs": [
    {
     "data": {
      "text/plain": [
       "5.0"
      ]
     },
     "execution_count": 14,
     "metadata": {},
     "output_type": "execute_result"
    }
   ],
   "source": [
    "MIN_RATING = 0.0\n",
    "MAX_RATING = 5.0\n",
    "ITEMID = 1\n",
    "USERID = 1\n",
    "svd.predict(ITEMID, USERID, MIN_RATING, MAX_RATING)"
   ]
  },
  {
   "cell_type": "code",
   "execution_count": 15,
   "metadata": {
    "collapsed": false
   },
   "outputs": [
    {
     "data": {
      "text/plain": [
       "5.0"
      ]
     },
     "execution_count": 15,
     "metadata": {},
     "output_type": "execute_result"
    }
   ],
   "source": [
    "svd.get_matrix().value(ITEMID, USERID)"
   ]
  },
  {
   "cell_type": "code",
   "execution_count": 16,
   "metadata": {
    "collapsed": false
   },
   "outputs": [
    {
     "data": {
      "text/plain": [
       "[(2028, 5.4018452642332546),\n",
       " (527, 5.3498144196809516),\n",
       " (2905, 5.2133848204673132),\n",
       " (318, 5.2052108435955446),\n",
       " (1193, 5.1942189963876562),\n",
       " (3114, 5.1753939214583697),\n",
       " (1, 5.1714259073839521),\n",
       " (2019, 5.1037438278754719),\n",
       " (1178, 5.0962756861446641),\n",
       " (1207, 5.090305272922329)]"
      ]
     },
     "execution_count": 16,
     "metadata": {},
     "output_type": "execute_result"
    }
   ],
   "source": [
    "#Recommend non rated movies to a user\n",
    "svd.recommend(USERID, is_row=False)"
   ]
  },
  {
   "cell_type": "code",
   "execution_count": 17,
   "metadata": {
    "collapsed": false
   },
   "outputs": [
    {
     "data": {
      "text/plain": [
       "[(869, 6.8215500393190904),\n",
       " (4086, 6.2667649038936908),\n",
       " (549, 6.2394061595542869),\n",
       " (1343, 6.2163075783431427),\n",
       " (1586, 6.039893928886932),\n",
       " (840, 5.9616632765170472),\n",
       " (1676, 5.896233772781037),\n",
       " (4595, 5.88945710113423),\n",
       " (2691, 5.8735094161364714),\n",
       " (2665, 5.8498694241604259)]"
      ]
     },
     "execution_count": 17,
     "metadata": {},
     "output_type": "execute_result"
    }
   ],
   "source": [
    "#users who should watch Toystory\n",
    "svd.recommend(ITEMID)"
   ]
  },
  {
   "cell_type": "code",
   "execution_count": 18,
   "metadata": {
    "collapsed": false
   },
   "outputs": [
    {
     "name": "stdout",
     "output_type": "stream",
     "text": [
      "Creating matrix (1000209 tuples)\n",
      "Matrix density is: 4.4684%\n",
      "Updating matrix: squish to at least 10 values\n",
      "Computing svd k=100, min_values=10, pre_normalize=None, mean_center=True, post_normalize=True\n",
      "[WARNING] mean_center is True. svd.similar(...) might return nan's. If so, then do svd.compute(..., mean_center=False)\n",
      "Saving svd model to /tmp/movielens\n"
     ]
    }
   ],
   "source": [
    "svd.compute(k=k, min_values=10, pre_normalize=None, mean_center=True, post_normalize=True, savefile='/tmp/movielens')"
   ]
  },
  {
   "cell_type": "code",
   "execution_count": 19,
   "metadata": {
    "collapsed": false
   },
   "outputs": [
    {
     "ename": "IOError",
     "evalue": "[Errno 2] No such file or directory: '/HW_08/toystory.zip'",
     "output_type": "error",
     "traceback": [
      "\u001b[0;31m---------------------------------------------------------------------------\u001b[0m",
      "\u001b[0;31mIOError\u001b[0m                                   Traceback (most recent call last)",
      "\u001b[0;32m<ipython-input-19-a2b3253c79ec>\u001b[0m in \u001b[0;36m<module>\u001b[0;34m()\u001b[0m\n\u001b[0;32m----> 1\u001b[0;31m \u001b[0msvd2\u001b[0m \u001b[0;34m=\u001b[0m \u001b[0mSVD\u001b[0m\u001b[0;34m(\u001b[0m\u001b[0mfilename\u001b[0m\u001b[0;34m=\u001b[0m\u001b[0;34m'/HW_08/toystory'\u001b[0m\u001b[0;34m)\u001b[0m\u001b[0;34m\u001b[0m\u001b[0m\n\u001b[0m",
      "\u001b[0;32m//anaconda/lib/python2.7/site-packages/python_recsys-0.2-py2.7.egg/recsys/algorithm/factorize.pyc\u001b[0m in \u001b[0;36m__init__\u001b[0;34m(self, filename)\u001b[0m\n\u001b[1;32m     54\u001b[0m \u001b[0;34m\u001b[0m\u001b[0m\n\u001b[1;32m     55\u001b[0m         \u001b[0;32mif\u001b[0m \u001b[0mfilename\u001b[0m\u001b[0;34m:\u001b[0m\u001b[0;34m\u001b[0m\u001b[0m\n\u001b[0;32m---> 56\u001b[0;31m             \u001b[0mself\u001b[0m\u001b[0;34m.\u001b[0m\u001b[0mload_model\u001b[0m\u001b[0;34m(\u001b[0m\u001b[0mfilename\u001b[0m\u001b[0;34m)\u001b[0m\u001b[0;34m\u001b[0m\u001b[0m\n\u001b[0m\u001b[1;32m     57\u001b[0m \u001b[0;34m\u001b[0m\u001b[0m\n\u001b[1;32m     58\u001b[0m     \u001b[0;32mdef\u001b[0m \u001b[0m__repr__\u001b[0m\u001b[0;34m(\u001b[0m\u001b[0mself\u001b[0m\u001b[0;34m)\u001b[0m\u001b[0;34m:\u001b[0m\u001b[0;34m\u001b[0m\u001b[0m\n",
      "\u001b[0;32m//anaconda/lib/python2.7/site-packages/python_recsys-0.2-py2.7.egg/recsys/algorithm/factorize.pyc\u001b[0m in \u001b[0;36mload_model\u001b[0;34m(self, filename)\u001b[0m\n\u001b[1;32m     75\u001b[0m             \u001b[0mzip\u001b[0m \u001b[0;34m=\u001b[0m \u001b[0mzipfile\u001b[0m\u001b[0;34m.\u001b[0m\u001b[0mZipFile\u001b[0m\u001b[0;34m(\u001b[0m\u001b[0mfilename\u001b[0m\u001b[0;34m,\u001b[0m \u001b[0mallowZip64\u001b[0m\u001b[0;34m=\u001b[0m\u001b[0mTrue\u001b[0m\u001b[0;34m)\u001b[0m\u001b[0;34m\u001b[0m\u001b[0m\n\u001b[1;32m     76\u001b[0m         \u001b[0;32mexcept\u001b[0m\u001b[0;34m:\u001b[0m\u001b[0;34m\u001b[0m\u001b[0m\n\u001b[0;32m---> 77\u001b[0;31m             \u001b[0mzip\u001b[0m \u001b[0;34m=\u001b[0m \u001b[0mzipfile\u001b[0m\u001b[0;34m.\u001b[0m\u001b[0mZipFile\u001b[0m\u001b[0;34m(\u001b[0m\u001b[0mfilename\u001b[0m \u001b[0;34m+\u001b[0m \u001b[0;34m'.zip'\u001b[0m\u001b[0;34m,\u001b[0m \u001b[0mallowZip64\u001b[0m\u001b[0;34m=\u001b[0m\u001b[0mTrue\u001b[0m\u001b[0;34m)\u001b[0m\u001b[0;34m\u001b[0m\u001b[0m\n\u001b[0m\u001b[1;32m     78\u001b[0m         \u001b[0;31m#Python 2.6 only:\u001b[0m\u001b[0;34m\u001b[0m\u001b[0;34m\u001b[0m\u001b[0m\n\u001b[1;32m     79\u001b[0m         \u001b[0;31m#self._U = loads(zip.open('.U').read())\u001b[0m\u001b[0;34m\u001b[0m\u001b[0;34m\u001b[0m\u001b[0m\n",
      "\u001b[0;32m//anaconda/lib/python2.7/zipfile.pyc\u001b[0m in \u001b[0;36m__init__\u001b[0;34m(self, file, mode, compression, allowZip64)\u001b[0m\n\u001b[1;32m    754\u001b[0m             \u001b[0mmodeDict\u001b[0m \u001b[0;34m=\u001b[0m \u001b[0;34m{\u001b[0m\u001b[0;34m'r'\u001b[0m \u001b[0;34m:\u001b[0m \u001b[0;34m'rb'\u001b[0m\u001b[0;34m,\u001b[0m \u001b[0;34m'w'\u001b[0m\u001b[0;34m:\u001b[0m \u001b[0;34m'wb'\u001b[0m\u001b[0;34m,\u001b[0m \u001b[0;34m'a'\u001b[0m \u001b[0;34m:\u001b[0m \u001b[0;34m'r+b'\u001b[0m\u001b[0;34m}\u001b[0m\u001b[0;34m\u001b[0m\u001b[0m\n\u001b[1;32m    755\u001b[0m             \u001b[0;32mtry\u001b[0m\u001b[0;34m:\u001b[0m\u001b[0;34m\u001b[0m\u001b[0m\n\u001b[0;32m--> 756\u001b[0;31m                 \u001b[0mself\u001b[0m\u001b[0;34m.\u001b[0m\u001b[0mfp\u001b[0m \u001b[0;34m=\u001b[0m \u001b[0mopen\u001b[0m\u001b[0;34m(\u001b[0m\u001b[0mfile\u001b[0m\u001b[0;34m,\u001b[0m \u001b[0mmodeDict\u001b[0m\u001b[0;34m[\u001b[0m\u001b[0mmode\u001b[0m\u001b[0;34m]\u001b[0m\u001b[0;34m)\u001b[0m\u001b[0;34m\u001b[0m\u001b[0m\n\u001b[0m\u001b[1;32m    757\u001b[0m             \u001b[0;32mexcept\u001b[0m \u001b[0mIOError\u001b[0m\u001b[0;34m:\u001b[0m\u001b[0;34m\u001b[0m\u001b[0m\n\u001b[1;32m    758\u001b[0m                 \u001b[0;32mif\u001b[0m \u001b[0mmode\u001b[0m \u001b[0;34m==\u001b[0m \u001b[0;34m'a'\u001b[0m\u001b[0;34m:\u001b[0m\u001b[0;34m\u001b[0m\u001b[0m\n",
      "\u001b[0;31mIOError\u001b[0m: [Errno 2] No such file or directory: '/HW_08/toystory.zip'"
     ]
    }
   ],
   "source": [
    "svd2 = SVD(filename='/HW_08/toystory')"
   ]
  },
  {
   "cell_type": "markdown",
   "metadata": {},
   "source": [
    "#Homework 8 Books Recommendation "
   ]
  },
  {
   "cell_type": "code",
   "execution_count": 4,
   "metadata": {
    "collapsed": false
   },
   "outputs": [
    {
     "name": "stderr",
     "output_type": "stream",
     "text": [
      "Skipping line 6452: expected 8 fields, saw 9\n",
      "Skipping line 43667: expected 8 fields, saw 10\n",
      "Skipping line 51751: expected 8 fields, saw 9\n",
      "\n",
      "Skipping line 92038: expected 8 fields, saw 9\n",
      "Skipping line 104319: expected 8 fields, saw 9\n",
      "Skipping line 121768: expected 8 fields, saw 9\n",
      "\n",
      "Skipping line 144058: expected 8 fields, saw 9\n",
      "Skipping line 150789: expected 8 fields, saw 9\n",
      "Skipping line 157128: expected 8 fields, saw 9\n",
      "Skipping line 180189: expected 8 fields, saw 9\n",
      "Skipping line 185738: expected 8 fields, saw 9\n",
      "\n",
      "Skipping line 209388: expected 8 fields, saw 9\n",
      "Skipping line 220626: expected 8 fields, saw 9\n",
      "Skipping line 227933: expected 8 fields, saw 11\n",
      "Skipping line 228957: expected 8 fields, saw 10\n",
      "Skipping line 245933: expected 8 fields, saw 9\n",
      "Skipping line 251296: expected 8 fields, saw 9\n",
      "Skipping line 259941: expected 8 fields, saw 9\n",
      "Skipping line 261529: expected 8 fields, saw 9\n",
      "\n",
      "//anaconda/lib/python2.7/site-packages/pandas/io/parsers.py:1170: DtypeWarning: Columns (3) have mixed types. Specify dtype option on import or set low_memory=False.\n",
      "  data = self._reader.read(nrows)\n"
     ]
    }
   ],
   "source": [
    "books = pd.read_csv(\"BX-Books.csv\",sep=';', index_col='ISBN', error_bad_lines=False)\n",
    "#skipping lines that did not have organized data in such a away that it could be uploaded\n"
   ]
  },
  {
   "cell_type": "code",
   "execution_count": 23,
   "metadata": {
    "collapsed": false
   },
   "outputs": [
    {
     "data": {
      "text/html": [
       "<div>\n",
       "<table border=\"1\" class=\"dataframe\">\n",
       "  <thead>\n",
       "    <tr style=\"text-align: right;\">\n",
       "      <th></th>\n",
       "      <th>User-ID</th>\n",
       "      <th>ISBN</th>\n",
       "      <th>Book-Rating</th>\n",
       "    </tr>\n",
       "  </thead>\n",
       "  <tbody>\n",
       "    <tr>\n",
       "      <th>0</th>\n",
       "      <td>276725</td>\n",
       "      <td>034545104X</td>\n",
       "      <td>0</td>\n",
       "    </tr>\n",
       "    <tr>\n",
       "      <th>1</th>\n",
       "      <td>276726</td>\n",
       "      <td>155061224</td>\n",
       "      <td>5</td>\n",
       "    </tr>\n",
       "    <tr>\n",
       "      <th>2</th>\n",
       "      <td>276727</td>\n",
       "      <td>446520802</td>\n",
       "      <td>0</td>\n",
       "    </tr>\n",
       "    <tr>\n",
       "      <th>3</th>\n",
       "      <td>276729</td>\n",
       "      <td>052165615X</td>\n",
       "      <td>3</td>\n",
       "    </tr>\n",
       "    <tr>\n",
       "      <th>4</th>\n",
       "      <td>276729</td>\n",
       "      <td>521795028</td>\n",
       "      <td>6</td>\n",
       "    </tr>\n",
       "  </tbody>\n",
       "</table>\n",
       "</div>"
      ],
      "text/plain": [
       "   User-ID        ISBN  Book-Rating\n",
       "0   276725  034545104X            0\n",
       "1   276726   155061224            5\n",
       "2   276727   446520802            0\n",
       "3   276729  052165615X            3\n",
       "4   276729   521795028            6"
      ]
     },
     "execution_count": 23,
     "metadata": {},
     "output_type": "execute_result"
    }
   ],
   "source": [
    "ratings = pd.read_csv(\"BX-Book-Ratings.csv\")\n",
    "ratings.head()"
   ]
  },
  {
   "cell_type": "code",
   "execution_count": 24,
   "metadata": {
    "collapsed": false
   },
   "outputs": [
    {
     "name": "stdout",
     "output_type": "stream",
     "text": [
      "<class 'pandas.core.frame.DataFrame'>\n",
      "Int64Index: 1048575 entries, 0 to 1048574\n",
      "Data columns (total 3 columns):\n",
      "User-ID        1048575 non-null int64\n",
      "ISBN           1048574 non-null object\n",
      "Book-Rating    1048570 non-null float64\n",
      "dtypes: float64(1), int64(1), object(1)\n",
      "memory usage: 32.0+ MB\n"
     ]
    }
   ],
   "source": [
    "ratings.info()"
   ]
  },
  {
   "cell_type": "code",
   "execution_count": 25,
   "metadata": {
    "collapsed": false
   },
   "outputs": [
    {
     "data": {
      "text/plain": [
       "971880107        2264\n",
       "316666343        1164\n",
       "385504209         813\n",
       "312195516         668\n",
       "60928336          662\n",
       "044023722X        595\n",
       "679781587         578\n",
       "142001740         555\n",
       "067976402X        552\n",
       "671027360         536\n",
       "446672211         527\n",
       "316601950         518\n",
       "059035342X        515\n",
       "375727345         505\n",
       "044021145X        487\n",
       "452282152         486\n",
       "440214041         479\n",
       "804106304         476\n",
       "440211727         469\n",
       "60930535          455\n",
       "345337662         449\n",
       "440226430         442\n",
       "743418174         436\n",
       "671021001         434\n",
       "312278586         430\n",
       "345370775         422\n",
       "156027321         417\n",
       "440241073         417\n",
       "446605239         415\n",
       "671003755         401\n",
       "                 ... \n",
       "8447315215          1\n",
       "9021432420          1\n",
       "345320549           1\n",
       "756401275           1\n",
       "99263491            1\n",
       "736627596           1\n",
       "20299605            1\n",
       "097415590X          1\n",
       "571169570           1\n",
       "394926080           1\n",
       "3257228147          1\n",
       "1582343756          1\n",
       "582418070           1\n",
       "198166001           1\n",
       "876669755           1\n",
       "385468334           1\n",
       "892724528           1\n",
       "874170966           1\n",
       "156458061X          1\n",
       "446614076           1\n",
       "1873176406          1\n",
       "096662727X          1\n",
       "1881548066          1\n",
       "1565042328          1\n",
       "932813429           1\n",
       "9022910652          1\n",
       "440502705           1\n",
       "250041997           1\n",
       "7544223213/14       1\n",
       "8804339993          1\n",
       "dtype: int64"
      ]
     },
     "execution_count": 25,
     "metadata": {},
     "output_type": "execute_result"
    }
   ],
   "source": [
    "ratings.ISBN.value_counts()"
   ]
  },
  {
   "cell_type": "markdown",
   "metadata": {},
   "source": [
    "#ratings\n",
    "This dataset contains the rating and user ID of the individual who gave the rating for a specific book, identified by ISBN number. This data set contains 1149780 ratings. \n",
    "\n",
    "The three ISBN numbers that have the greatest number of ratings within this data set are: \n",
    "\n",
    "Wild Animus: A Novel By Rich Shapero 0971880107    2502\n",
    "\n",
    "The Lovely Bones by Alice Sebold 0316666343    1295\n",
    "\n",
    "The Da Vinchi Code, By Dan Brown 0385504209     883"
   ]
  },
  {
   "cell_type": "code",
   "execution_count": 8,
   "metadata": {
    "collapsed": false
   },
   "outputs": [
    {
     "data": {
      "text/html": [
       "<div>\n",
       "<table border=\"1\" class=\"dataframe\">\n",
       "  <thead>\n",
       "    <tr style=\"text-align: right;\">\n",
       "      <th></th>\n",
       "      <th>Book-Title</th>\n",
       "      <th>Book-Author</th>\n",
       "      <th>Year-Of-Publication</th>\n",
       "      <th>Publisher</th>\n",
       "      <th>Image-URL-S</th>\n",
       "      <th>Image-URL-M</th>\n",
       "      <th>Image-URL-L</th>\n",
       "    </tr>\n",
       "    <tr>\n",
       "      <th>ISBN</th>\n",
       "      <th></th>\n",
       "      <th></th>\n",
       "      <th></th>\n",
       "      <th></th>\n",
       "      <th></th>\n",
       "      <th></th>\n",
       "      <th></th>\n",
       "    </tr>\n",
       "  </thead>\n",
       "  <tbody>\n",
       "    <tr>\n",
       "      <th>0195153448</th>\n",
       "      <td>Classical Mythology</td>\n",
       "      <td>Mark P. O. Morford</td>\n",
       "      <td>2002</td>\n",
       "      <td>Oxford University Press</td>\n",
       "      <td>http://images.amazon.com/images/P/0195153448.0...</td>\n",
       "      <td>http://images.amazon.com/images/P/0195153448.0...</td>\n",
       "      <td>http://images.amazon.com/images/P/0195153448.0...</td>\n",
       "    </tr>\n",
       "    <tr>\n",
       "      <th>0002005018</th>\n",
       "      <td>Clara Callan</td>\n",
       "      <td>Richard Bruce Wright</td>\n",
       "      <td>2001</td>\n",
       "      <td>HarperFlamingo Canada</td>\n",
       "      <td>http://images.amazon.com/images/P/0002005018.0...</td>\n",
       "      <td>http://images.amazon.com/images/P/0002005018.0...</td>\n",
       "      <td>http://images.amazon.com/images/P/0002005018.0...</td>\n",
       "    </tr>\n",
       "    <tr>\n",
       "      <th>0060973129</th>\n",
       "      <td>Decision in Normandy</td>\n",
       "      <td>Carlo D'Este</td>\n",
       "      <td>1991</td>\n",
       "      <td>HarperPerennial</td>\n",
       "      <td>http://images.amazon.com/images/P/0060973129.0...</td>\n",
       "      <td>http://images.amazon.com/images/P/0060973129.0...</td>\n",
       "      <td>http://images.amazon.com/images/P/0060973129.0...</td>\n",
       "    </tr>\n",
       "    <tr>\n",
       "      <th>0374157065</th>\n",
       "      <td>Flu: The Story of the Great Influenza Pandemic...</td>\n",
       "      <td>Gina Bari Kolata</td>\n",
       "      <td>1999</td>\n",
       "      <td>Farrar Straus Giroux</td>\n",
       "      <td>http://images.amazon.com/images/P/0374157065.0...</td>\n",
       "      <td>http://images.amazon.com/images/P/0374157065.0...</td>\n",
       "      <td>http://images.amazon.com/images/P/0374157065.0...</td>\n",
       "    </tr>\n",
       "    <tr>\n",
       "      <th>0393045218</th>\n",
       "      <td>The Mummies of Urumchi</td>\n",
       "      <td>E. J. W. Barber</td>\n",
       "      <td>1999</td>\n",
       "      <td>W. W. Norton &amp;amp; Company</td>\n",
       "      <td>http://images.amazon.com/images/P/0393045218.0...</td>\n",
       "      <td>http://images.amazon.com/images/P/0393045218.0...</td>\n",
       "      <td>http://images.amazon.com/images/P/0393045218.0...</td>\n",
       "    </tr>\n",
       "  </tbody>\n",
       "</table>\n",
       "</div>"
      ],
      "text/plain": [
       "                                                   Book-Title  \\\n",
       "ISBN                                                            \n",
       "0195153448                                Classical Mythology   \n",
       "0002005018                                       Clara Callan   \n",
       "0060973129                               Decision in Normandy   \n",
       "0374157065  Flu: The Story of the Great Influenza Pandemic...   \n",
       "0393045218                             The Mummies of Urumchi   \n",
       "\n",
       "                     Book-Author Year-Of-Publication  \\\n",
       "ISBN                                                   \n",
       "0195153448    Mark P. O. Morford                2002   \n",
       "0002005018  Richard Bruce Wright                2001   \n",
       "0060973129          Carlo D'Este                1991   \n",
       "0374157065      Gina Bari Kolata                1999   \n",
       "0393045218       E. J. W. Barber                1999   \n",
       "\n",
       "                             Publisher  \\\n",
       "ISBN                                     \n",
       "0195153448     Oxford University Press   \n",
       "0002005018       HarperFlamingo Canada   \n",
       "0060973129             HarperPerennial   \n",
       "0374157065        Farrar Straus Giroux   \n",
       "0393045218  W. W. Norton &amp; Company   \n",
       "\n",
       "                                                  Image-URL-S  \\\n",
       "ISBN                                                            \n",
       "0195153448  http://images.amazon.com/images/P/0195153448.0...   \n",
       "0002005018  http://images.amazon.com/images/P/0002005018.0...   \n",
       "0060973129  http://images.amazon.com/images/P/0060973129.0...   \n",
       "0374157065  http://images.amazon.com/images/P/0374157065.0...   \n",
       "0393045218  http://images.amazon.com/images/P/0393045218.0...   \n",
       "\n",
       "                                                  Image-URL-M  \\\n",
       "ISBN                                                            \n",
       "0195153448  http://images.amazon.com/images/P/0195153448.0...   \n",
       "0002005018  http://images.amazon.com/images/P/0002005018.0...   \n",
       "0060973129  http://images.amazon.com/images/P/0060973129.0...   \n",
       "0374157065  http://images.amazon.com/images/P/0374157065.0...   \n",
       "0393045218  http://images.amazon.com/images/P/0393045218.0...   \n",
       "\n",
       "                                                  Image-URL-L  \n",
       "ISBN                                                           \n",
       "0195153448  http://images.amazon.com/images/P/0195153448.0...  \n",
       "0002005018  http://images.amazon.com/images/P/0002005018.0...  \n",
       "0060973129  http://images.amazon.com/images/P/0060973129.0...  \n",
       "0374157065  http://images.amazon.com/images/P/0374157065.0...  \n",
       "0393045218  http://images.amazon.com/images/P/0393045218.0...  "
      ]
     },
     "execution_count": 8,
     "metadata": {},
     "output_type": "execute_result"
    }
   ],
   "source": [
    "books.head()"
   ]
  },
  {
   "cell_type": "code",
   "execution_count": 9,
   "metadata": {
    "collapsed": false
   },
   "outputs": [
    {
     "name": "stdout",
     "output_type": "stream",
     "text": [
      "<class 'pandas.core.frame.DataFrame'>\n",
      "Index: 271360 entries, 0195153448 to 0767409752\n",
      "Data columns (total 7 columns):\n",
      "Book-Title             271360 non-null object\n",
      "Book-Author            271360 non-null object\n",
      "Year-Of-Publication    271360 non-null object\n",
      "Publisher              271358 non-null object\n",
      "Image-URL-S            271360 non-null object\n",
      "Image-URL-M            271360 non-null object\n",
      "Image-URL-L            271357 non-null object\n",
      "dtypes: object(7)\n",
      "memory usage: 16.6+ MB\n"
     ]
    }
   ],
   "source": [
    "books.info()"
   ]
  },
  {
   "cell_type": "markdown",
   "metadata": {},
   "source": [
    "#books\n",
    "This data set contians 271360 books. The origional data set had 19 books (rows) that did not have correctly formatted variables, making it difficult to upload the data using the desired format. So I decided to drop the rows that were not in the correct format. This may be an issue later at someponit if the books data set needs to interact with other the data sets such as ratings or users. "
   ]
  },
  {
   "cell_type": "code",
   "execution_count": 10,
   "metadata": {
    "collapsed": false
   },
   "outputs": [
    {
     "data": {
      "text/html": [
       "<div>\n",
       "<table border=\"1\" class=\"dataframe\">\n",
       "  <thead>\n",
       "    <tr style=\"text-align: right;\">\n",
       "      <th></th>\n",
       "      <th>Location</th>\n",
       "      <th>Age</th>\n",
       "    </tr>\n",
       "    <tr>\n",
       "      <th>User-ID</th>\n",
       "      <th></th>\n",
       "      <th></th>\n",
       "    </tr>\n",
       "  </thead>\n",
       "  <tbody>\n",
       "    <tr>\n",
       "      <th>1</th>\n",
       "      <td>nyc, new york, usa</td>\n",
       "      <td>NaN</td>\n",
       "    </tr>\n",
       "    <tr>\n",
       "      <th>2</th>\n",
       "      <td>stockton, california, usa</td>\n",
       "      <td>18</td>\n",
       "    </tr>\n",
       "    <tr>\n",
       "      <th>3</th>\n",
       "      <td>moscow, yukon territory, russia</td>\n",
       "      <td>NaN</td>\n",
       "    </tr>\n",
       "    <tr>\n",
       "      <th>4</th>\n",
       "      <td>porto, v.n.gaia, portugal</td>\n",
       "      <td>17</td>\n",
       "    </tr>\n",
       "    <tr>\n",
       "      <th>5</th>\n",
       "      <td>farnborough, hants, united kingdom</td>\n",
       "      <td>NaN</td>\n",
       "    </tr>\n",
       "  </tbody>\n",
       "</table>\n",
       "</div>"
      ],
      "text/plain": [
       "                                   Location  Age\n",
       "User-ID                                         \n",
       "1                        nyc, new york, usa  NaN\n",
       "2                 stockton, california, usa   18\n",
       "3           moscow, yukon territory, russia  NaN\n",
       "4                 porto, v.n.gaia, portugal   17\n",
       "5        farnborough, hants, united kingdom  NaN"
      ]
     },
     "execution_count": 10,
     "metadata": {},
     "output_type": "execute_result"
    }
   ],
   "source": [
    "users = pd.read_csv(\"BX-Users.csv\",sep=';', index_col= 'User-ID')\n",
    "users.head()"
   ]
  },
  {
   "cell_type": "code",
   "execution_count": 11,
   "metadata": {
    "collapsed": false
   },
   "outputs": [
    {
     "data": {
      "text/plain": [
       "User-ID\n",
       "1         0\n",
       "3         0\n",
       "5         0\n",
       "7         0\n",
       "8         0\n",
       "9         0\n",
       "12        0\n",
       "14        0\n",
       "15        0\n",
       "16        0\n",
       "17        0\n",
       "22        0\n",
       "23        0\n",
       "26        0\n",
       "32        0\n",
       "34        0\n",
       "39        0\n",
       "43        0\n",
       "45        0\n",
       "48        0\n",
       "49        0\n",
       "52        0\n",
       "53        0\n",
       "55        0\n",
       "57        0\n",
       "58        0\n",
       "60        0\n",
       "62        0\n",
       "65        0\n",
       "68        0\n",
       "         ..\n",
       "278790    0\n",
       "278791    0\n",
       "278793    0\n",
       "278797    0\n",
       "278799    0\n",
       "278801    0\n",
       "278802    0\n",
       "278804    0\n",
       "278806    0\n",
       "278813    0\n",
       "278816    0\n",
       "278823    0\n",
       "278825    0\n",
       "278827    0\n",
       "278828    0\n",
       "278829    0\n",
       "278831    0\n",
       "278834    0\n",
       "278837    0\n",
       "278839    0\n",
       "278841    0\n",
       "278842    0\n",
       "278845    0\n",
       "278847    0\n",
       "278848    0\n",
       "278850    0\n",
       "278854    0\n",
       "278856    0\n",
       "278857    0\n",
       "278858    0\n",
       "Name: Age, dtype: float64"
      ]
     },
     "execution_count": 11,
     "metadata": {},
     "output_type": "execute_result"
    }
   ],
   "source": [
    "#replacing the nulls with 0s\n",
    "users.Age[users.Age.isnull()].fillna(0)"
   ]
  },
  {
   "cell_type": "code",
   "execution_count": 12,
   "metadata": {
    "collapsed": false
   },
   "outputs": [
    {
     "data": {
      "text/plain": [
       "count    168096.000000\n",
       "mean         34.751434\n",
       "std          14.428097\n",
       "min           0.000000\n",
       "25%          24.000000\n",
       "50%          32.000000\n",
       "75%          44.000000\n",
       "max         244.000000\n",
       "Name: Age, dtype: float64"
      ]
     },
     "execution_count": 12,
     "metadata": {},
     "output_type": "execute_result"
    }
   ],
   "source": [
    "#using the same methods as the titanic data set, replacing the ages with the std and mean so it wont\n",
    "#alter the data set as much\n",
    "users.Age[users.Age.notnull()].describe()"
   ]
  },
  {
   "cell_type": "code",
   "execution_count": 13,
   "metadata": {
    "collapsed": true
   },
   "outputs": [],
   "source": [
    "users.Age.fillna(np.random.normal(34.751434,14.428097),inplace=True)"
   ]
  },
  {
   "cell_type": "code",
   "execution_count": 14,
   "metadata": {
    "collapsed": false
   },
   "outputs": [
    {
     "data": {
      "text/plain": [
       "count    278858.000000\n",
       "mean         30.322204\n",
       "std          12.460257\n",
       "min           0.000000\n",
       "25%          23.600262\n",
       "50%          23.600262\n",
       "75%          35.000000\n",
       "max         244.000000\n",
       "Name: Age, dtype: float64"
      ]
     },
     "execution_count": 14,
     "metadata": {},
     "output_type": "execute_result"
    }
   ],
   "source": [
    "#values after using the random replacement of NaN values with the mean and std from the group of users that provided age\n",
    "#the Mean is failry close, the std is more signifcantly lower (in comparison to the change in mean)\n",
    "\n",
    "users.Age[users.Age.notnull()].describe()"
   ]
  },
  {
   "cell_type": "markdown",
   "metadata": {},
   "source": [
    "#users\n",
    "More than 1/3 of the data set did not have values for ages, so I decided to use the mean and std in place of the NaN values, becuase it made sense to preserve that portion of the data set rather than just dropping the users that did not have ages. There are other methdos that could have been considered, but this one was the most straight forward to me. "
   ]
  },
  {
   "cell_type": "markdown",
   "metadata": {},
   "source": [
    "#Pivot table"
   ]
  },
  {
   "cell_type": "code",
   "execution_count": 15,
   "metadata": {
    "collapsed": true
   },
   "outputs": [],
   "source": [
    "#pivoted = ratings.pivot(index='User-ID', columns='ISBN', values='Book-Rating')"
   ]
  },
  {
   "cell_type": "code",
   "execution_count": 16,
   "metadata": {
    "collapsed": true
   },
   "outputs": [],
   "source": [
    "#having trouble getting the pivot table to run. When I push the command it runs for 10 min and then causes a\n",
    "#kernel panic. Skippin this for now. "
   ]
  },
  {
   "cell_type": "code",
   "execution_count": null,
   "metadata": {
    "collapsed": false
   },
   "outputs": [],
   "source": [
    "\n",
    "#ratings_pivot = pd.pivot_table(ratings_clean, values=['Rating'], columns=['ISBN', 'User_ID'], aggfunc = np.mean )\n",
    "\n",
    "# ratings_all = ratings_pivot.unstack(-1)\n",
    "\n",
    "#ratings_all.head(10)"
   ]
  },
  {
   "cell_type": "code",
   "execution_count": null,
   "metadata": {
    "collapsed": true
   },
   "outputs": [],
   "source": [
    "#ratings_value = ratings_all.fillna(0)"
   ]
  },
  {
   "cell_type": "code",
   "execution_count": null,
   "metadata": {
    "collapsed": true
   },
   "outputs": [],
   "source": [
    "'''\n",
    "CAN NOT GET THIS PIVOT TABLE TO WORK. IT KEEPS CAUSING A KERNEL PANIC. VERY FRUSTRATING.\n",
    "\n",
    "'''"
   ]
  },
  {
   "cell_type": "markdown",
   "metadata": {},
   "source": [
    "#cosine similarity "
   ]
  },
  {
   "cell_type": "code",
   "execution_count": 40,
   "metadata": {
    "collapsed": true
   },
   "outputs": [],
   "source": [
    "from sklearn.metrics.pairwise import cosine_similarity"
   ]
  },
  {
   "cell_type": "code",
   "execution_count": null,
   "metadata": {
    "collapsed": true
   },
   "outputs": [],
   "source": [
    "#cant do this one until I get the pivot table figured out. "
   ]
  },
  {
   "cell_type": "code",
   "execution_count": null,
   "metadata": {
    "collapsed": true
   },
   "outputs": [],
   "source": []
  },
  {
   "cell_type": "code",
   "execution_count": null,
   "metadata": {
    "collapsed": true
   },
   "outputs": [],
   "source": []
  },
  {
   "cell_type": "code",
   "execution_count": null,
   "metadata": {
    "collapsed": true
   },
   "outputs": [],
   "source": []
  },
  {
   "cell_type": "markdown",
   "metadata": {},
   "source": [
    "#SVD model "
   ]
  },
  {
   "cell_type": "code",
   "execution_count": 46,
   "metadata": {
    "collapsed": false
   },
   "outputs": [
    {
     "name": "stdout",
     "output_type": "stream",
     "text": [
      "<class 'pandas.core.frame.DataFrame'>\n",
      "Int64Index: 1149780 entries, 0 to 1149779\n",
      "Data columns (total 3 columns):\n",
      "User_ID    1149780 non-null int64\n",
      "ISBN       1149780 non-null object\n",
      "Rating     1149780 non-null int64\n",
      "dtypes: int64(2), object(1)\n",
      "memory usage: 35.1+ MB\n"
     ]
    }
   ],
   "source": [
    "ratings_clean = pd.read_csv(\"bxbr.csv\",sep=';', names= ['User_ID', 'ISBN', 'Rating'])\n",
    "ratings_clean.info()"
   ]
  },
  {
   "cell_type": "code",
   "execution_count": 37,
   "metadata": {
    "collapsed": true
   },
   "outputs": [],
   "source": [
    "svd2 = SVD()"
   ]
  },
  {
   "cell_type": "code",
   "execution_count": 39,
   "metadata": {
    "collapsed": false,
    "scrolled": false
   },
   "outputs": [
    {
     "name": "stdout",
     "output_type": "stream",
     "text": [
      "Loading bxbr.csv\n",
      "..........|.\n"
     ]
    }
   ],
   "source": [
    "svd2.load_data(filename= 'bxbr.csv', sep=';', format={'col':0, 'row':1, 'value':2, 'ids': int})\n"
   ]
  },
  {
   "cell_type": "code",
   "execution_count": null,
   "metadata": {
    "collapsed": true
   },
   "outputs": [],
   "source": [
    "k = 100\n",
    "svd.compute(k=k, min_values=10, pre_normalize=None, mean_center=True, post_normalize=True)"
   ]
  },
  {
   "cell_type": "code",
   "execution_count": null,
   "metadata": {
    "collapsed": true
   },
   "outputs": [],
   "source": []
  },
  {
   "cell_type": "code",
   "execution_count": null,
   "metadata": {
    "collapsed": true
   },
   "outputs": [],
   "source": []
  }
 ],
 "metadata": {
  "kernelspec": {
   "display_name": "Python 2",
   "language": "python",
   "name": "python2"
  },
  "language_info": {
   "codemirror_mode": {
    "name": "ipython",
    "version": 2
   },
   "file_extension": ".py",
   "mimetype": "text/x-python",
   "name": "python",
   "nbconvert_exporter": "python",
   "pygments_lexer": "ipython2",
   "version": "2.7.10"
  }
 },
 "nbformat": 4,
 "nbformat_minor": 0
}
